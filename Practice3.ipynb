{
 "cells": [
  {
   "cell_type": "markdown",
   "metadata": {},
   "source": [
    "# List of Names\n",
    "\n",
    "In this practice, we are using the command for introducing values inside a list.\n",
    "\n",
    "As we see in class, inside a list we can introduce numbers and words or phrases.\n",
    "\n",
    "For create a list, first, we stablish the amount of values that will be introduce into the list creating a variable, then, we have to assign a name and put inside brackets, whatever we need on the list. In the case of the code above, we are creating a list, but the brackets are in blank, that is because we also can introduce values inside a list, using the command 'NameOfTheList.append(x)'; for this example, 'x' is a variable used for introduce the value that we will put inside the list.\n",
    "\n",
    "The condition 'for', in this example, is used for stablish the range of values that will be asked for being introduce inside the list. The second use for the condition 'for', was used for printing the values inside the list.\n",
    "\n",
    "Then, we need to create a variable that will be used for store the value selected, but we need to use an input in order to be selected with the keyboard."
   ]
  },
  {
   "cell_type": "code",
   "execution_count": 20,
   "metadata": {},
   "outputs": [
    {
     "name": "stdout",
     "output_type": "stream",
     "text": [
      "How many names do you want to introduce? 3\n",
      "Introduce a name: a\n",
      "Introduce a name: b\n",
      "Introduce a name: c\n",
      "The names introduced were: \n",
      "a\n",
      "b\n",
      "c\n",
      "Select a name in the list to be shown: 2\n",
      "\n",
      "The name selected was: c\n"
     ]
    }
   ],
   "source": [
    "values = int(input(\"How many names do you want to introduce? \"))\n",
    "names = []\n",
    "\n",
    "for i in range(0,values):\n",
    "    x = str(input(\"Introduce a name: \"))\n",
    "    names.append(x)\n",
    "    \n",
    "print(\"The names introduced were: \")\n",
    "\n",
    "for a in names:\n",
    "    print(a)\n",
    "\n",
    "n = names[int(input(\"Select a name in the list to be shown: \"))]\n",
    "    \n",
    "print(f\"\\nThe name selected was: {n}\")"
   ]
  }
 ],
 "metadata": {
  "kernelspec": {
   "display_name": "Python 3",
   "language": "python",
   "name": "python3"
  },
  "language_info": {
   "codemirror_mode": {
    "name": "ipython",
    "version": 3
   },
   "file_extension": ".py",
   "mimetype": "text/x-python",
   "name": "python",
   "nbconvert_exporter": "python",
   "pygments_lexer": "ipython3",
   "version": "3.7.3"
  }
 },
 "nbformat": 4,
 "nbformat_minor": 2
}
