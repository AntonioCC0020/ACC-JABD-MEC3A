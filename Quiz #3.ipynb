{
 "cells": [
  {
   "cell_type": "code",
   "execution_count": 8,
   "metadata": {},
   "outputs": [
    {
     "name": "stdout",
     "output_type": "stream",
     "text": [
      "How many values do you want to introduce? 3\n",
      "Introduce a value for y: 1\n",
      "Introduce a value for y: 2\n",
      "Introduce a value for y: 3\n",
      "Introduce a value for x: 1\n",
      "Introduce a value for x: 2\n",
      "Introduce a value for x: 3\n",
      "The equation for linear regression is: y=3.275+-0.6375X\n"
     ]
    }
   ],
   "source": [
    "values = int(input(\"How many values do you want to introduce? \"))\n",
    "\n",
    "y = []\n",
    "totalY = 0  \n",
    "for i in range(0,values):\n",
    "    a = int(input(\"Introduce a value for y: \"))\n",
    "    y.append(a)\n",
    "    totalY += a  \n",
    "\n",
    "    \n",
    "x = []\n",
    "totalX = 0\n",
    "totalX2 = 0\n",
    "for i in range(0,values):\n",
    "    b = int(input(\"Introduce a value for x: \"))\n",
    "    x.append(b)\n",
    "    totalX += b \n",
    "    totalX2 += b**2\n",
    "    \n",
    "\n",
    "    \n",
    "x1y1 = totalY*totalX\n",
    "x1 = totalX2\n",
    "x2 = totalX**2\n",
    "\n",
    "b1 = (values*x1y1-(totalY))/(x2-(x1**2))\n",
    "b0 = (totalY-(b1*totalX))/values\n",
    "\n",
    "print(f\"The equation for linear regression is: y={b0}+{b1}X\")\n"
   ]
  },
  {
   "cell_type": "markdown",
   "metadata": {},
   "source": [
    "##### "
   ]
  },
  {
   "cell_type": "code",
   "execution_count": null,
   "metadata": {},
   "outputs": [],
   "source": []
  },
  {
   "cell_type": "code",
   "execution_count": null,
   "metadata": {},
   "outputs": [],
   "source": []
  }
 ],
 "metadata": {
  "kernelspec": {
   "display_name": "Python 3",
   "language": "python",
   "name": "python3"
  },
  "language_info": {
   "codemirror_mode": {
    "name": "ipython",
    "version": 3
   },
   "file_extension": ".py",
   "mimetype": "text/x-python",
   "name": "python",
   "nbconvert_exporter": "python",
   "pygments_lexer": "ipython3",
   "version": "3.7.3"
  }
 },
 "nbformat": 4,
 "nbformat_minor": 2
}
