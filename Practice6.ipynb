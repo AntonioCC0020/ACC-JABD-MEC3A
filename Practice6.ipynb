{
 "cells": [
  {
   "cell_type": "markdown",
   "metadata": {},
   "source": [
    "# Practice 6: Trimmed mean\n",
    "In this practice, we want to calculate the trimmed mean from a given values inside a list.\n",
    "The first thing that we need to do, is creating a list where we are going to put the values, and then we need to sort the list in order to make the calculation easier; for that operation, Python provide us with the instruction 'sorted', that organize the list, from the lowest to the highest value."
   ]
  },
  {
   "cell_type": "code",
   "execution_count": 1,
   "metadata": {},
   "outputs": [
    {
     "name": "stdout",
     "output_type": "stream",
     "text": [
      "How many values do you want to introduce?: 10\n",
      "Introduce a value: 1\n",
      "Introduce a value: 2\n",
      "Introduce a value: 3\n",
      "Introduce a value: 4\n",
      "Introduce a value: 5\n",
      "Introduce a value: 6\n",
      "Introduce a value: 7\n",
      "Introduce a value: 8\n",
      "Introduce a value: 9\n",
      "Introduce a value: 10\n",
      "The values introduced were: \n",
      " [1.0, 2.0, 3.0, 4.0, 5.0, 6.0, 7.0, 8.0, 9.0, 10.0]\n"
     ]
    }
   ],
   "source": [
    "n = int(input(\"How many values do you want to introduce?: \"))\n",
    "a = []\n",
    "total = 0\n",
    "for i in range(0,n):\n",
    "    x = float(input(\"Introduce a value: \"))\n",
    "    a.append(x)\n",
    "    total += x\n",
    "    \n",
    "sort = sorted(a)\n",
    "print(f\"The values introduced were: \\n {sort}\")"
   ]
  },
  {
   "cell_type": "markdown",
   "metadata": {},
   "source": [
    "The next step is asking for the percentage of trimmed mean that the user wants to calculate.\n",
    "We create a variable, and then, that variable needs to be divided in 100, because the code needs to multiply the amount of values by this number, in order to obtain the quantity of values that will be eliminated."
   ]
  },
  {
   "cell_type": "code",
   "execution_count": 2,
   "metadata": {},
   "outputs": [
    {
     "name": "stdout",
     "output_type": "stream",
     "text": [
      "Introduce the % of trimmed mean calculation: 10\n"
     ]
    }
   ],
   "source": [
    "perc = int(input(\"Introduce the % of trimmed mean calculation: \"))\n",
    "p = perc/100\n",
    "y = int(p*n)"
   ]
  },
  {
   "cell_type": "markdown",
   "metadata": {},
   "source": [
    "After that, we need to create a new list where the new values will be placed.\n",
    "The range of the list, is from the amount of values that remains, to this value less one; because Python starts counting from zero, and our first value is called zero in Python."
   ]
  },
  {
   "cell_type": "code",
   "execution_count": 4,
   "metadata": {},
   "outputs": [
    {
     "name": "stdout",
     "output_type": "stream",
     "text": [
      "The new values are: \n",
      " [2.0, 3.0, 4.0, 5.0, 6.0, 7.0, 8.0, 9.0] \n",
      "The sample mean is: 5.5\n",
      "The trimmed mean is: 5.5\n"
     ]
    }
   ],
   "source": [
    "new_values = 0 \n",
    "Sum_x = 0\n",
    "b = []\n",
    "for i in range (y,n-y):\n",
    "    z = sort[i]\n",
    "    b.append(z)\n",
    "    new_values += 1 \n",
    "    Sum_x += z \n",
    "    \n",
    "print(f\"The new values are: \\n {b} \")\n",
    "\n",
    "sample_mean = total/n\n",
    "print(f\"The sample mean is: {sample_mean}\")\n",
    "\n",
    "trimmed = Sum_x/new_values\n",
    "print(f\"The trimmed mean is: {trimmed}\")"
   ]
  },
  {
   "cell_type": "code",
   "execution_count": null,
   "metadata": {},
   "outputs": [],
   "source": []
  }
 ],
 "metadata": {
  "kernelspec": {
   "display_name": "Python 3",
   "language": "python",
   "name": "python3"
  },
  "language_info": {
   "codemirror_mode": {
    "name": "ipython",
    "version": 3
   },
   "file_extension": ".py",
   "mimetype": "text/x-python",
   "name": "python",
   "nbconvert_exporter": "python",
   "pygments_lexer": "ipython3",
   "version": "3.7.3"
  }
 },
 "nbformat": 4,
 "nbformat_minor": 2
}
