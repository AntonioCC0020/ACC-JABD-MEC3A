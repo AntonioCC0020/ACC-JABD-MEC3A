{
 "cells": [
  {
   "cell_type": "markdown",
   "metadata": {},
   "source": [
    "# Asking questions\n",
    "\n",
    "   In this practice, we are going to work with the instruction 'print' in order to build a kind of questionary:\n",
    "\n",
    "First of all, the instruction 'print' leave us write in the console, whatever phrase that we wrote between quotations, but in this case, we are writing a question, and we are looking for an answer, so, we need to use the instruction 'input' for creating a variable that would contain the answer written in the console.\n",
    "\n",
    "   In the next example, we are using the above-mentioned instructions, but, also we are including the letter 'f' inside the instruction 'print' for mentioning to the console that the phrase between braces is a variable."
   ]
  },
  {
   "cell_type": "code",
   "execution_count": 8,
   "metadata": {},
   "outputs": [
    {
     "name": "stdout",
     "output_type": "stream",
     "text": [
      "What is your name?\n",
      "Antonio\n",
      "My name is Antonio\n"
     ]
    }
   ],
   "source": [
    "print(\"What is your name?\")\n",
    "name = input()\n",
    "print(f\"My name is {name}\")"
   ]
  },
  {
   "cell_type": "markdown",
   "metadata": {},
   "source": [
    "In the next practice, we are looking for the age of three persons in order to obtain the sample mean of their ages; so we need to create an int variable (that in this case is \"AgeMean\") that could obtain the sample mean using a formula, and then, be printed in the console."
   ]
  },
  {
   "cell_type": "code",
   "execution_count": 6,
   "metadata": {},
   "outputs": [
    {
     "name": "stdout",
     "output_type": "stream",
     "text": [
      "How old are you?\n",
      "43\n",
      "And you?\n",
      "34\n",
      "And what about you?\n",
      "34\n",
      "The mean of your ages is 37.0\n"
     ]
    }
   ],
   "source": [
    "print(\"How old are you?\")\n",
    "age1 = int(input())\n",
    "print(\"And you?\")\n",
    "age2 = int(input())\n",
    "print(\"And what about you?\")\n",
    "age3 = int(input())\n",
    "AgeMean = (age1 + age2 + age3)/3\n",
    "print(f\"The mean of your ages is {AgeMean}\")"
   ]
  }
 ],
 "metadata": {
  "kernelspec": {
   "display_name": "Python 3",
   "language": "python",
   "name": "python3"
  },
  "language_info": {
   "codemirror_mode": {
    "name": "ipython",
    "version": 3
   },
   "file_extension": ".py",
   "mimetype": "text/x-python",
   "name": "python",
   "nbconvert_exporter": "python",
   "pygments_lexer": "ipython3",
   "version": "3.7.3"
  }
 },
 "nbformat": 4,
 "nbformat_minor": 2
}
