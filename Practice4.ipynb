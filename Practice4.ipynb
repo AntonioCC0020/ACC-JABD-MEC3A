{
 "cells": [
  {
   "cell_type": "markdown",
   "metadata": {},
   "source": [
    "# Practice 4\n",
    "\n",
    "The objective of this practice, is develop a program, which computes sample mean, mode, and standard deviation.\n",
    "The structure of this program is, first looks for the amount of values that the user wants to introduce, then, creates some variables which will be used later."
   ]
  },
  {
   "cell_type": "code",
   "execution_count": 8,
   "metadata": {},
   "outputs": [
    {
     "name": "stdout",
     "output_type": "stream",
     "text": [
      "How many values do you want to introduce? 3\n"
     ]
    }
   ],
   "source": [
    "n = int(input(\"How many values do you want to introduce? \"))\n",
    "\n",
    "a = []\n",
    "total = 0\n",
    "s2 = 0"
   ]
  },
  {
   "cell_type": "markdown",
   "metadata": {},
   "source": [
    "Then, creates a loop for introducing the values that the user wants, in order to save it in a list previously created.\n",
    "Also, in this block, it solves the equation for sample mean, because we have all the variables needed; the same case with the variance, which is needed for obtain standard deviation, but is necessary to obtain the sample mean before. In this case, the variable called 'Sum_xi' is for solving the inside of the equation, and then, for solving the sumatory, just was created other variable for adding each value of the sumatory."
   ]
  },
  {
   "cell_type": "code",
   "execution_count": 9,
   "metadata": {},
   "outputs": [
    {
     "name": "stdout",
     "output_type": "stream",
     "text": [
      "Introduce a value: 1\n",
      "Introduce a value: 2\n",
      "Introduce a value: 3\n"
     ]
    }
   ],
   "source": [
    "for i in range(0,n):\n",
    "    x = float(input(\"Introduce a value: \"))\n",
    "    a.append(x)\n",
    "    total += x\n",
    "\n",
    "sample_mean = total/n\n",
    "\n",
    "for j in range (0,n):\n",
    "    Sum_xi = ((a[j] - sample_mean)**2)/(n-1)\n",
    "    s2 += Sum_xi"
   ]
  },
  {
   "cell_type": "markdown",
   "metadata": {},
   "source": [
    "With the aim of select and option to do, we need to create a kind of menu that takes the value between brackets for choosing an option stablished inside a variable. Then, the variable is compared on a if condition for choosing the option needed, for example, if I select the option 1, the variable 'option' will be 1, and the if condition will choose the option that follow that condition, in this case, the program will follow the operation inside the option 1, that is \"Calculate the sample mean\"."
   ]
  },
  {
   "cell_type": "code",
   "execution_count": 10,
   "metadata": {},
   "outputs": [
    {
     "name": "stdout",
     "output_type": "stream",
     "text": [
      "\n",
      "\n",
      "Choose an operation to do:\n",
      "[1] Obtain sample mean\n",
      "[2] Obtain mode\n",
      "[3] Obtain standard deviation\n",
      "\n",
      "Which operation you want?: 1\n",
      "\n",
      "\n",
      "The sample mean is: 2.0\n"
     ]
    }
   ],
   "source": [
    "print(\"\\n\")   \n",
    "\n",
    "print('''Choose an operation to do:\n",
    "[1] Obtain sample mean\n",
    "[2] Obtain mode\n",
    "[3] Obtain standard deviation''')\n",
    "\n",
    "option = int(input(\"\\nWhich operation you want?: \"))\n",
    "print(\"\\n\")   \n",
    "\n",
    "if option == 1:\n",
    "    \n",
    "    print(f\"The sample mean is: {sample_mean}\")"
   ]
  },
  {
   "cell_type": "markdown",
   "metadata": {},
   "source": [
    "In case that, the option selected was 2, the program will calculate the mode of the values inserted by the user.\n",
    "First of all, is necessary to create an empty variable that could be filled with values before a condition which stablish that for a value inserted, will count how many times a value was inserted (with the Python added-on function 'count'), and if that count equals more than zero, the empty variable created before, will take the value of the amount of times that value was inserted.\n",
    "\n",
    "And then, the program will do the same process with the function 'count', but in this case the condition is, if the amount of times that the value was inserted is not included on the list created before, the program will include it.\n",
    "\n",
    "Finally, the code will check (with the Python added-on function 'len', that counts the amount of values put inside a list) that a value is inside the list, if is empty, the program will print that is no mode calculated."
   ]
  },
  {
   "cell_type": "code",
   "execution_count": 11,
   "metadata": {},
   "outputs": [],
   "source": [
    "if option == 2:\n",
    "    rep = 0\n",
    "    for i in a:\n",
    "        counts = a.count(i)\n",
    "        if counts > rep:\n",
    "            rep = counts\n",
    "    \n",
    "    mode = []\n",
    "    \n",
    "    for i in a:\n",
    "        counts = a.count(i)\n",
    "        if counts == rep and i not in mode:\n",
    "            mode.append(i)\n",
    "            \n",
    "    if len(mode) != len(a):\n",
    "        print(f\"The mode is: {mode}\")\n",
    "    else:\n",
    "        print(\"No mode\")\n",
    "\n",
    "    "
   ]
  },
  {
   "cell_type": "markdown",
   "metadata": {},
   "source": [
    "The last option is computing the standard deviation, that is just elevate the variance to 1/2, that is the same that doing square root."
   ]
  },
  {
   "cell_type": "code",
   "execution_count": 12,
   "metadata": {},
   "outputs": [],
   "source": [
    "if option == 3:\n",
    "    s = s2**(1/2)\n",
    "    print(f\"The standard deviation is: {s}\")\n",
    "    "
   ]
  }
 ],
 "metadata": {
  "kernelspec": {
   "display_name": "Python 3",
   "language": "python",
   "name": "python3"
  },
  "language_info": {
   "codemirror_mode": {
    "name": "ipython",
    "version": 3
   },
   "file_extension": ".py",
   "mimetype": "text/x-python",
   "name": "python",
   "nbconvert_exporter": "python",
   "pygments_lexer": "ipython3",
   "version": "3.7.3"
  }
 },
 "nbformat": 4,
 "nbformat_minor": 2
}
