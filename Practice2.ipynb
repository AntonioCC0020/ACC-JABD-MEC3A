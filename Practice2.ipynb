{
 "cells": [
  {
   "cell_type": "markdown",
   "metadata": {},
   "source": [
    "# IF-ELSE CONDITION\n",
    "\n",
    "In this practice, we are using the conditions 'If-Else' in order to obtain answers from questions previously asked."
   ]
  },
  {
   "cell_type": "code",
   "execution_count": 31,
   "metadata": {},
   "outputs": [
    {
     "name": "stdout",
     "output_type": "stream",
     "text": [
      "Marco- Hi, Miguel.\n",
      "How many students do you have in your class?46\n",
      "Miguel- Hi Marco, I have 46 in my class, and you?\n",
      "54\n",
      "Marco- I have 54 students in my class.\n",
      "Miguel- Oh! It is a large group.\n",
      "You have more students than me.\n",
      "Marco- And how many of your students have knowledge about electronics? 2\n",
      "Miguel- I have 2 students who know about electronics.\n",
      "Marco- Wow, so you must be patient with them.\n"
     ]
    }
   ],
   "source": [
    "\n",
    "print(\"Marco- Hi, Miguel.\")\n",
    "studentsMiguel = int(input(\"How many students do you have in your class?\"))\n",
    "\n",
    "print(f\"Miguel- Hi Marco, I have {studentsMiguel} in my class, and you?\")\n",
    "\n",
    "studentsMarco = int(input())\n",
    "print(f\"Marco- I have {studentsMarco} students in my class.\")\n",
    "\n",
    "if studentsMarco >= 35:\n",
    "    print(\"Miguel- Oh! It is a large group.\")\n",
    "elif studentsMarco < 35 and studentsMarco >= 20:\n",
    "    print(\"Miguel- So, it's a normal group.\")\n",
    "else:\n",
    "    print(\"Miguel- Wow, it's a small group!\")\n",
    "    \n",
    "if studentsMarco > studentsMiguel:\n",
    "    print(\"You have more students than me.\")\n",
    "elif studentsMarco < studentsMiguel:\n",
    "    print(\"You have less students than me.\")\n",
    "else:\n",
    "    print(\"We have the same amount of students!\")\n",
    "    \n",
    "studentsMiguelElec = int(input(\"Marco- And how many of your students have knowledge about electronics? \"))\n",
    "\n",
    "print(f\"Miguel- I have {studentsMiguelElec} students who know about electronics.\")\n",
    "\n",
    "Seventh = studentsMiguel*0.7\n",
    "Third = studentsMiguel*0.3\n",
    "Tenth = studentsMiguel*0.1\n",
    "\n",
    "#Here, we are using 'if' inside another 'if' because we are verifying the first condition, and then, the program verify the other conditions.\n",
    "if studentsMiguelElec < studentsMiguel:\n",
    "    if studentsMiguelElec >= Seventh:\n",
    "        print(\"Marco- Wow! You should create an electronics club.\")\n",
    "    elif studentsMiguelElec >= Third:\n",
    "        print(\"Marco- So you should encourage them to help their classmates.\")\n",
    "    elif studentsMiguelElec >= Tenth or studentsMiguelElec < Tenth:\n",
    "        print(\"Marco- Wow, so you must be patient with them.\")"
   ]
  }
 ],
 "metadata": {
  "kernelspec": {
   "display_name": "Python 3",
   "language": "python",
   "name": "python3"
  },
  "language_info": {
   "codemirror_mode": {
    "name": "ipython",
    "version": 3
   },
   "file_extension": ".py",
   "mimetype": "text/x-python",
   "name": "python",
   "nbconvert_exporter": "python",
   "pygments_lexer": "ipython3",
   "version": "3.7.3"
  }
 },
 "nbformat": 4,
 "nbformat_minor": 2
}
